{
 "cells": [
  {
   "cell_type": "code",
   "execution_count": 1,
   "id": "45c735c9",
   "metadata": {},
   "outputs": [
    {
     "name": "stderr",
     "output_type": "stream",
     "text": [
      "/opt/conda/lib/python3.8/site-packages/tqdm/auto.py:22: TqdmWarning: IProgress not found. Please update jupyter and ipywidgets. See https://ipywidgets.readthedocs.io/en/stable/user_install.html\n",
      "  from .autonotebook import tqdm as notebook_tqdm\n"
     ]
    }
   ],
   "source": [
    "import pytorch_lightning as pl\n",
    "from pytorch_lightning.loggers import WandbLogger\n",
    "from pytorch_lightning.callbacks import EarlyStopping, ModelCheckpoint\n",
    "from pytorch_lightning.loggers import WandbLogger\n",
    "from pytorch_lightning import seed_everything\n",
    "\n",
    "from imuposer.config import Config, amass_combos\n",
    "from imuposer.models.utils import get_model\n",
    "from imuposer.datasets.utils import get_datamodule\n",
    "from imuposer.utils import get_parser"
   ]
  },
  {
   "cell_type": "code",
   "execution_count": 64,
   "id": "8a813486",
   "metadata": {},
   "outputs": [],
   "source": [
    "from imuposer.math.angular import r6d_to_rotation_matrix"
   ]
  },
  {
   "cell_type": "code",
   "execution_count": 5,
   "id": "f3d3c181",
   "metadata": {},
   "outputs": [],
   "source": [
    "parser = get_parser()\n",
    "args = parser.parse_args([\"--combo_id\", \"global\", \n",
    "                         \"--experiment\", \"IMUPoserGlobalModel-b128\"])\n",
    "combo_id = args.combo_id\n",
    "fast_dev_run = args.fast_dev_run\n",
    "_experiment = args.experiment"
   ]
  },
  {
   "cell_type": "code",
   "execution_count": 16,
   "id": "0dfb27ed",
   "metadata": {},
   "outputs": [
    {
     "name": "stdout",
     "output_type": "stream",
     "text": [
      " best_model.txt\n",
      "'epoch=epoch=40-val_loss=validation_step_loss=0.01410.ckpt'\n",
      "'epoch=epoch=42-val_loss=validation_step_loss=0.01403.ckpt'\n",
      "'epoch=epoch=43-val_loss=validation_step_loss=0.01409.ckpt'\n",
      "'epoch=epoch=44-val_loss=validation_step_loss=0.01422.ckpt'\n",
      "'epoch=epoch=47-val_loss=validation_step_loss=0.01407.ckpt'\n",
      " wandb\n"
     ]
    }
   ],
   "source": [
    "# !ls ../checkpoints\n",
    "!ls ../checkpoints/IMUPoserGlobalModel-b128_global-09042023-162745"
   ]
  },
  {
   "cell_type": "code",
   "execution_count": 17,
   "id": "24bd08ba",
   "metadata": {},
   "outputs": [
    {
     "name": "stdout",
     "output_type": "stream",
     "text": [
      "/root/sumi/sumi_repository/inertial_pose/IMUPoser/checkpoints/IMUPoserGlobalModel-b128_global-09042023-162745/epoch=epoch=42-val_loss=validation_step_loss=0.01403.ckpt\n",
      "\n",
      "{'/root/sumi/sumi_repository/inertial_pose/IMUPoser/checkpoints/IMUPoserGlobalModel-b128_global-09042023-162745/epoch=epoch=40-val_loss=validation_step_loss=0.01410.ckpt': tensor(0.0141, device='cuda:0'), '/root/sumi/sumi_repository/inertial_pose/IMUPoser/checkpoints/IMUPoserGlobalModel-b128_global-09042023-162745/epoch=epoch=42-val_loss=validation_step_loss=0.01403.ckpt': tensor(0.0140, device='cuda:0'), '/root/sumi/sumi_repository/inertial_pose/IMUPoser/checkpoints/IMUPoserGlobalModel-b128_global-09042023-162745/epoch=epoch=43-val_loss=validation_step_loss=0.01409.ckpt': tensor(0.0141, device='cuda:0'), '/root/sumi/sumi_repository/inertial_pose/IMUPoser/checkpoints/IMUPoserGlobalModel-b128_global-09042023-162745/epoch=epoch=44-val_loss=validation_step_loss=0.01422.ckpt': tensor(0.0142, device='cuda:0'), '/root/sumi/sumi_repository/inertial_pose/IMUPoser/checkpoints/IMUPoserGlobalModel-b128_global-09042023-162745/epoch=epoch=47-val_loss=validation_step_loss=0.01407.ckpt': tensor(0.0141, device='cuda:0')}"
     ]
    }
   ],
   "source": [
    "!cat ../checkpoints/IMUPoserGlobalModel-b128_global-09042023-162745/best_model.txt"
   ]
  },
  {
   "cell_type": "code",
   "execution_count": 14,
   "id": "acbf4caf",
   "metadata": {},
   "outputs": [],
   "source": [
    "checkpoint_dir = \"../checkpoints\""
   ]
  },
  {
   "cell_type": "code",
   "execution_count": 24,
   "id": "30a8a4d0",
   "metadata": {},
   "outputs": [],
   "source": [
    "model_path = \"IMUPoserGlobalModel-b128_global-09042023-162745/epoch=epoch=42-val_loss=validation_step_loss=0.01403.ckpt\"\n",
    "\n",
    "checkpoint = f\"{checkpoint_dir}/{model_path}\""
   ]
  },
  {
   "cell_type": "code",
   "execution_count": 26,
   "id": "f6acd7c9",
   "metadata": {},
   "outputs": [],
   "source": [
    "config = Config(experiment=f\"{_experiment}_{combo_id}\", model=\"GlobalModelIMUPoser\",\n",
    "                project_root_dir=\"../\", joints_set=amass_combos[combo_id], normalize=\"no_translation\",\n",
    "                r6d=True, loss_type=\"mse\", use_joint_loss=True, device=\"0\") "
   ]
  },
  {
   "cell_type": "code",
   "execution_count": null,
   "id": "acf31d7f",
   "metadata": {},
   "outputs": [],
   "source": [
    "device = \"cuda:0\""
   ]
  },
  {
   "cell_type": "code",
   "execution_count": 70,
   "id": "b27e43a1",
   "metadata": {},
   "outputs": [
    {
     "name": "stdout",
     "output_type": "stream",
     "text": [
      "GlobalModelIMUPoser\n"
     ]
    },
    {
     "data": {
      "text/plain": [
       "IMUPoserModel(\n",
       "  (dip_model): RNN(\n",
       "    (rnn): LSTM(256, 256, num_layers=2, batch_first=True, bidirectional=True)\n",
       "    (linear1): Linear(in_features=60, out_features=256, bias=True)\n",
       "    (linear2): Linear(in_features=512, out_features=144, bias=True)\n",
       "    (dropout): Dropout(p=0.2, inplace=False)\n",
       "  )\n",
       "  (loss): MSELoss()\n",
       ")"
      ]
     },
     "execution_count": 70,
     "metadata": {},
     "output_type": "execute_result"
    }
   ],
   "source": [
    "model = get_model(config).load_from_checkpoint(checkpoint).to(device)\n",
    "model.eval()"
   ]
  },
  {
   "cell_type": "code",
   "execution_count": 32,
   "id": "35eabfe6",
   "metadata": {},
   "outputs": [
    {
     "name": "stdout",
     "output_type": "stream",
     "text": [
      "Done with setup\n"
     ]
    }
   ],
   "source": [
    "datamodule = get_datamodule(config)\n",
    "datamodule.setup(\"test\")"
   ]
  },
  {
   "cell_type": "code",
   "execution_count": 34,
   "id": "b457f4fc",
   "metadata": {},
   "outputs": [],
   "source": [
    "data_loader = datamodule.test_dataloader()"
   ]
  },
  {
   "cell_type": "code",
   "execution_count": 36,
   "id": "78d5d377",
   "metadata": {},
   "outputs": [],
   "source": [
    "for batch in data_loader:\n",
    "    break"
   ]
  },
  {
   "cell_type": "code",
   "execution_count": 55,
   "id": "4053a277",
   "metadata": {},
   "outputs": [
    {
     "data": {
      "text/plain": [
       "(torch.Size([128, 300, 60]), torch.Size([128, 300, 144]), 128)"
      ]
     },
     "execution_count": 55,
     "metadata": {},
     "output_type": "execute_result"
    }
   ],
   "source": [
    "imu_inputs, target_pose, input_lengths, _ = batch\n",
    "\n",
    "imu_inputs = imu_inputs.to(device)\n",
    "target_pose = target_pose.to(device)\n",
    "\n",
    "imu_inputs.shape, target_pose.shape, len(input_lengths)"
   ]
  },
  {
   "cell_type": "code",
   "execution_count": 127,
   "id": "b3873ad7",
   "metadata": {},
   "outputs": [],
   "source": [
    "_pred = model(imu_inputs, input_lengths)"
   ]
  },
  {
   "cell_type": "code",
   "execution_count": 128,
   "id": "115e90f3",
   "metadata": {},
   "outputs": [],
   "source": [
    "pred_pose = _pred[:, :, :model.n_pose_output]\n",
    "_target = target_pose\n",
    "target_pose = _target[:, :, :model.n_pose_output]"
   ]
  },
  {
   "cell_type": "code",
   "execution_count": 129,
   "id": "713220c7",
   "metadata": {},
   "outputs": [],
   "source": [
    "pred_joint = model.bodymodel.forward_kinematics(pose=r6d_to_rotation_matrix(pred_pose).view(-1, 216))[1]\n",
    "target_joint = model.bodymodel.forward_kinematics(pose=r6d_to_rotation_matrix(target_pose).view(-1, 216))[1]"
   ]
  },
  {
   "cell_type": "code",
   "execution_count": 130,
   "id": "ad1ad2dc",
   "metadata": {},
   "outputs": [
    {
     "data": {
      "text/plain": [
       "(torch.Size([38400, 24, 3]), torch.Size([38400, 24, 3]))"
      ]
     },
     "execution_count": 130,
     "metadata": {},
     "output_type": "execute_result"
    }
   ],
   "source": [
    "pred_joint.shape, target_joint.shape"
   ]
  },
  {
   "cell_type": "code",
   "execution_count": 131,
   "id": "ebf2604f",
   "metadata": {},
   "outputs": [],
   "source": [
    "# pred_rot, pred_j, pred_v = model.bodymodel.forward_kinematics(pose=r6d_to_rotation_matrix(pred_pose).view(-1, 216), calc_mesh=True)\n",
    "# target_rot, target_j, target_v =  model.bodymodel.forward_kinematics(pose=r6d_to_rotation_matrix(target_pose).view(-1, 216), calc_mesh=True)\n",
    "pred_rot, pred_j = model.bodymodel.forward_kinematics(pose=r6d_to_rotation_matrix(pred_pose).view(-1, 216))\n",
    "target_rot, target_j =  model.bodymodel.forward_kinematics(pose=r6d_to_rotation_matrix(target_pose).view(-1, 216))"
   ]
  },
  {
   "cell_type": "code",
   "execution_count": 132,
   "id": "307a1217",
   "metadata": {},
   "outputs": [],
   "source": [
    "import pickle\n",
    "\n",
    "results = {\n",
    "    \"pred_pose\": pred_pose.detach().cpu().numpy(),\n",
    "    \"target_pose\": target_pose.detach().cpu().numpy(),\n",
    "    \n",
    "    \"pred_joint\": pred_joint.detach().cpu().numpy(),\n",
    "    \"target_joint\": target_joint.detach().cpu().numpy(),\n",
    "    \n",
    "    \"pred_rot\": pred_rot.detach().cpu().numpy(),\n",
    "    \"target_rot\": target_rot.detach().cpu().numpy(),\n",
    "}\n",
    "\n",
    "with open(\"predict.pkl\", \"wb\") as f:\n",
    "    pickle.dump(results, f)"
   ]
  },
  {
   "cell_type": "code",
   "execution_count": 133,
   "id": "a05d98c1",
   "metadata": {},
   "outputs": [],
   "source": [
    "pred_pose_rot = r6d_to_rotation_matrix(pred_pose).reshape(-1, 24, 3, 3)"
   ]
  },
  {
   "cell_type": "code",
   "execution_count": 86,
   "id": "ec5a1f32",
   "metadata": {},
   "outputs": [
    {
     "data": {
      "text/plain": [
       "torch.Size([38400, 24, 3, 3])"
      ]
     },
     "execution_count": 86,
     "metadata": {},
     "output_type": "execute_result"
    }
   ],
   "source": [
    "pred_pose_rot.shape"
   ]
  },
  {
   "cell_type": "code",
   "execution_count": 78,
   "id": "715706bb",
   "metadata": {},
   "outputs": [],
   "source": [
    "import numpy as np\n",
    "import torch"
   ]
  },
  {
   "cell_type": "code",
   "execution_count": 90,
   "id": "520379fa",
   "metadata": {},
   "outputs": [],
   "source": [
    "# # T, J, _  = results[\"target_joint\"].shape\n",
    "# T, J  = pred_pose_rot.shape[:2]\n",
    "\n",
    "# T = 100\n",
    "\n",
    "# # model.bodymodel.view_motion([ pred_joint ], \n",
    "# #                             [ torch.zeros((T, 3)).to(device) ] )\n",
    "# model.bodymodel.view_motion([ pred_pose_rot[:T] ], \n",
    "#                             [ torch.zeros((T, 3)).to(device) ] )"
   ]
  },
  {
   "cell_type": "code",
   "execution_count": 99,
   "id": "c8bb9491",
   "metadata": {},
   "outputs": [
    {
     "data": {
      "text/plain": [
       "[0,\n",
       " 1,\n",
       " 2,\n",
       " 3,\n",
       " 4,\n",
       " 5,\n",
       " 6,\n",
       " 7,\n",
       " 8,\n",
       " 9,\n",
       " 10,\n",
       " 11,\n",
       " 12,\n",
       " 13,\n",
       " 14,\n",
       " 15,\n",
       " 16,\n",
       " 17,\n",
       " 18,\n",
       " 19,\n",
       " 20,\n",
       " 21,\n",
       " 22,\n",
       " 23]"
      ]
     },
     "execution_count": 99,
     "metadata": {},
     "output_type": "execute_result"
    }
   ],
   "source": [
    "model.bodymodel.parent\n",
    "model.config.pred_joints_set"
   ]
  },
  {
   "cell_type": "code",
   "execution_count": 118,
   "id": "71c9d758",
   "metadata": {},
   "outputs": [
    {
     "data": {
      "text/plain": [
       "4600"
      ]
     },
     "execution_count": 118,
     "metadata": {},
     "output_type": "execute_result"
    }
   ],
   "source": [
    "len(data_loader.dataset.pose)\n",
    "len(data_loader.dataset.imu)\n",
    "\n",
    "# data_loader.dataset.imu[0].shape"
   ]
  },
  {
   "cell_type": "code",
   "execution_count": 111,
   "id": "6c4efee9",
   "metadata": {},
   "outputs": [],
   "source": [
    "import matplotlib.pyplot as plt"
   ]
  },
  {
   "cell_type": "code",
   "execution_count": 117,
   "id": "318394fb",
   "metadata": {},
   "outputs": [
    {
     "data": {
      "image/png": "[encoded data removed]",
      "text/plain": [
       "<Figure size 864x216 with 1 Axes>"
      ]
     },
     "metadata": {
      "needs_background": "light"
     },
     "output_type": "display_data"
    }
   ],
   "source": [
    "fig, ax = plt.subplots(figsize=(12,3))\n",
    "plt.plot( [len(v) for v in data_loader.dataset.imu ] )\n",
    "plt.show()"
   ]
  },
  {
   "cell_type": "code",
   "execution_count": null,
   "id": "10c1c0c4",
   "metadata": {},
   "outputs": [],
   "source": []
  },
  {
   "cell_type": "code",
   "execution_count": 143,
   "id": "35e37473",
   "metadata": {},
   "outputs": [
    {
     "data": {
      "text/plain": [
       "(torch.Size([300, 60]), torch.Size([300, 216]))"
      ]
     },
     "execution_count": 143,
     "metadata": {},
     "output_type": "execute_result"
    }
   ],
   "source": [
    "len(data_loader.dataset.imu)\n",
    "data_loader.dataset.imu[0].shape, data_loader.dataset.pose[0].shape"
   ]
  },
  {
   "cell_type": "code",
   "execution_count": 141,
   "id": "f73cf998",
   "metadata": {},
   "outputs": [
    {
     "data": {
      "text/plain": [
       "True"
      ]
     },
     "execution_count": 141,
     "metadata": {},
     "output_type": "execute_result"
    }
   ],
   "source": [
    "data_loader.dataset.config.r6d"
   ]
  },
  {
   "cell_type": "code",
   "execution_count": null,
   "id": "6a4215c5",
   "metadata": {},
   "outputs": [],
   "source": []
  }
 ],
 "metadata": {
  "kernelspec": {
   "display_name": "Python 3 (ipykernel)",
   "language": "python",
   "name": "python3"
  },
  "language_info": {
   "codemirror_mode": {
    "name": "ipython",
    "version": 3
   },
   "file_extension": ".py",
   "mimetype": "text/x-python",
   "name": "python",
   "nbconvert_exporter": "python",
   "pygments_lexer": "ipython3",
   "version": "3.8.8"
  }
 },
 "nbformat": 4,
 "nbformat_minor": 5
}
